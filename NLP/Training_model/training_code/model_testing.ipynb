{
 "cells": [
  {
   "cell_type": "code",
   "execution_count": 1,
   "metadata": {},
   "outputs": [
    {
     "name": "stdout",
     "output_type": "stream",
     "text": [
      "Defaulting to user installation because normal site-packages is not writeable\n",
      "Requirement already satisfied: torch==2.2.2 in c:\\users\\olekm\\appdata\\roaming\\python\\python311\\site-packages (2.2.2)\n",
      "Requirement already satisfied: tensorboard in c:\\program files\\python311\\lib\\site-packages (2.16.2)\n",
      "Requirement already satisfied: filelock in c:\\users\\olekm\\appdata\\roaming\\python\\python311\\site-packages (from torch==2.2.2) (3.13.1)\n",
      "Requirement already satisfied: typing-extensions>=4.8.0 in c:\\users\\olekm\\appdata\\roaming\\python\\python311\\site-packages (from torch==2.2.2) (4.9.0)\n",
      "Requirement already satisfied: sympy in c:\\users\\olekm\\appdata\\roaming\\python\\python311\\site-packages (from torch==2.2.2) (1.12)\n",
      "Requirement already satisfied: networkx in c:\\users\\olekm\\appdata\\roaming\\python\\python311\\site-packages (from torch==2.2.2) (3.2.1)\n",
      "Requirement already satisfied: jinja2 in c:\\users\\olekm\\appdata\\roaming\\python\\python311\\site-packages (from torch==2.2.2) (3.1.2)\n",
      "Requirement already satisfied: fsspec in c:\\users\\olekm\\appdata\\roaming\\python\\python311\\site-packages (from torch==2.2.2) (2023.10.0)\n",
      "Requirement already satisfied: absl-py>=0.4 in c:\\users\\olekm\\appdata\\roaming\\python\\python311\\site-packages (from tensorboard) (2.1.0)\n",
      "Requirement already satisfied: grpcio>=1.48.2 in c:\\users\\olekm\\appdata\\roaming\\python\\python311\\site-packages (from tensorboard) (1.60.1)\n",
      "Requirement already satisfied: markdown>=2.6.8 in c:\\users\\olekm\\appdata\\roaming\\python\\python311\\site-packages (from tensorboard) (3.5.2)\n",
      "Requirement already satisfied: numpy>=1.12.0 in c:\\users\\olekm\\appdata\\roaming\\python\\python311\\site-packages (from tensorboard) (1.23.5)\n",
      "Requirement already satisfied: protobuf!=4.24.0,>=3.19.6 in c:\\users\\olekm\\appdata\\roaming\\python\\python311\\site-packages (from tensorboard) (3.20.3)\n",
      "Requirement already satisfied: setuptools>=41.0.0 in c:\\program files\\python311\\lib\\site-packages (from tensorboard) (65.5.0)\n",
      "Requirement already satisfied: six>1.9 in c:\\users\\olekm\\appdata\\roaming\\python\\python311\\site-packages (from tensorboard) (1.16.0)\n",
      "Requirement already satisfied: tensorboard-data-server<0.8.0,>=0.7.0 in c:\\users\\olekm\\appdata\\roaming\\python\\python311\\site-packages (from tensorboard) (0.7.2)\n",
      "Requirement already satisfied: werkzeug>=1.0.1 in c:\\users\\olekm\\appdata\\roaming\\python\\python311\\site-packages (from tensorboard) (3.0.2)\n",
      "Requirement already satisfied: MarkupSafe>=2.1.1 in c:\\users\\olekm\\appdata\\roaming\\python\\python311\\site-packages (from werkzeug>=1.0.1->tensorboard) (2.1.3)\n",
      "Requirement already satisfied: mpmath>=0.19 in c:\\users\\olekm\\appdata\\roaming\\python\\python311\\site-packages (from sympy->torch==2.2.2) (1.3.0)\n",
      "Note: you may need to restart the kernel to use updated packages.\n"
     ]
    },
    {
     "name": "stderr",
     "output_type": "stream",
     "text": [
      "WARNING: There was an error checking the latest version of pip.\n"
     ]
    },
    {
     "name": "stdout",
     "output_type": "stream",
     "text": [
      "Note: you may need to restart the kernel to use updated packages.Defaulting to user installation because normal site-packages is not writeable\n",
      "Requirement already satisfied: transformers==4.40.0 in c:\\users\\olekm\\appdata\\roaming\\python\\python311\\site-packages (4.40.0)\n",
      "Requirement already satisfied: datasets==2.18.0 in c:\\users\\olekm\\appdata\\roaming\\python\\python311\\site-packages (2.18.0)\n",
      "Requirement already satisfied: accelerate==0.29.3 in c:\\users\\olekm\\appdata\\roaming\\python\\python311\\site-packages (0.29.3)\n",
      "Requirement already satisfied: evaluate==0.4.1 in c:\\users\\olekm\\appdata\\roaming\\python\\python311\\site-packages (0.4.1)\n",
      "Requirement already satisfied: bitsandbytes==0.43.1 in c:\\users\\olekm\\appdata\\roaming\\python\\python311\\site-packages (0.43.1)\n",
      "Requirement already satisfied: huggingface_hub==0.22.2 in c:\\users\\olekm\\appdata\\roaming\\python\\python311\\site-packages (0.22.2)\n",
      "Requirement already satisfied: trl==0.8.6 in c:\\users\\olekm\\appdata\\roaming\\python\\python311\\site-packages (0.8.6)\n",
      "Requirement already satisfied: peft==0.10.0 in c:\\users\\olekm\\appdata\\roaming\\python\\python311\\site-packages (0.10.0)\n",
      "Requirement already satisfied: filelock in c:\\users\\olekm\\appdata\\roaming\\python\\python311\\site-packages (from transformers==4.40.0) (3.13.1)\n",
      "Requirement already satisfied: numpy>=1.17 in c:\\users\\olekm\\appdata\\roaming\\python\\python311\\site-packages (from transformers==4.40.0) (1.23.5)\n",
      "Requirement already satisfied: packaging>=20.0 in c:\\users\\olekm\\appdata\\roaming\\python\\python311\\site-packages (from transformers==4.40.0) (23.2)\n",
      "Requirement already satisfied: pyyaml>=5.1 in c:\\users\\olekm\\appdata\\roaming\\python\\python311\\site-packages (from transformers==4.40.0) (6.0.1)\n",
      "Requirement already satisfied: regex!=2019.12.17 in c:\\users\\olekm\\appdata\\roaming\\python\\python311\\site-packages (from transformers==4.40.0) (2023.12.25)\n",
      "Requirement already satisfied: requests in c:\\users\\olekm\\appdata\\roaming\\python\\python311\\site-packages (from transformers==4.40.0) (2.31.0)\n",
      "Requirement already satisfied: tokenizers<0.20,>=0.19 in c:\\users\\olekm\\appdata\\roaming\\python\\python311\\site-packages (from transformers==4.40.0) (0.19.1)\n",
      "Requirement already satisfied: safetensors>=0.4.1 in c:\\users\\olekm\\appdata\\roaming\\python\\python311\\site-packages (from transformers==4.40.0) (0.4.2)\n",
      "Requirement already satisfied: tqdm>=4.27 in c:\\users\\olekm\\appdata\\roaming\\python\\python311\\site-packages (from transformers==4.40.0) (4.66.2)\n",
      "Requirement already satisfied: pyarrow>=12.0.0 in c:\\users\\olekm\\appdata\\roaming\\python\\python311\\site-packages (from datasets==2.18.0) (15.0.0)\n",
      "Requirement already satisfied: pyarrow-hotfix in c:\\users\\olekm\\appdata\\roaming\\python\\python311\\site-packages (from datasets==2.18.0) (0.6)\n",
      "Requirement already satisfied: dill<0.3.9,>=0.3.0 in c:\\users\\olekm\\appdata\\roaming\\python\\python311\\site-packages (from datasets==2.18.0) (0.3.8)\n",
      "Requirement already satisfied: pandas in c:\\users\\olekm\\appdata\\roaming\\python\\python311\\site-packages (from datasets==2.18.0) (2.2.2)\n",
      "Requirement already satisfied: xxhash in c:\\users\\olekm\\appdata\\roaming\\python\\python311\\site-packages (from datasets==2.18.0) (3.4.1)\n",
      "Requirement already satisfied: multiprocess in c:\\users\\olekm\\appdata\\roaming\\python\\python311\\site-packages (from datasets==2.18.0) (0.70.16)\n",
      "Requirement already satisfied: fsspec[http]<=2024.2.0,>=2023.1.0 in c:\\users\\olekm\\appdata\\roaming\\python\\python311\\site-packages (from datasets==2.18.0) (2023.10.0)\n",
      "Requirement already satisfied: aiohttp in c:\\users\\olekm\\appdata\\roaming\\python\\python311\\site-packages (from datasets==2.18.0) (3.9.1)\n",
      "Requirement already satisfied: psutil in c:\\users\\olekm\\appdata\\roaming\\python\\python311\\site-packages (from accelerate==0.29.3) (5.9.8)\n",
      "Requirement already satisfied: torch>=1.10.0 in c:\\users\\olekm\\appdata\\roaming\\python\\python311\\site-packages (from accelerate==0.29.3) (2.2.2)\n",
      "Requirement already satisfied: responses<0.19 in c:\\users\\olekm\\appdata\\roaming\\python\\python311\\site-packages (from evaluate==0.4.1) (0.18.0)\n",
      "Requirement already satisfied: typing-extensions>=3.7.4.3 in c:\\users\\olekm\\appdata\\roaming\\python\\python311\\site-packages (from huggingface_hub==0.22.2) (4.9.0)\n",
      "Requirement already satisfied: tyro>=0.5.11 in c:\\users\\olekm\\appdata\\roaming\\python\\python311\\site-packages (from trl==0.8.6) (0.8.4)\n",
      "Requirement already satisfied: attrs>=17.3.0 in c:\\users\\olekm\\appdata\\roaming\\python\\python311\\site-packages (from aiohttp->datasets==2.18.0) (23.1.0)\n",
      "Requirement already satisfied: multidict<7.0,>=4.5 in c:\\users\\olekm\\appdata\\roaming\\python\\python311\\site-packages (from aiohttp->datasets==2.18.0) (6.0.4)\n",
      "Requirement already satisfied: yarl<2.0,>=1.0 in c:\\users\\olekm\\appdata\\roaming\\python\\python311\\site-packages (from aiohttp->datasets==2.18.0) (1.9.4)\n",
      "Requirement already satisfied: frozenlist>=1.1.1 in c:\\users\\olekm\\appdata\\roaming\\python\\python311\\site-packages (from aiohttp->datasets==2.18.0) (1.4.1)\n",
      "Requirement already satisfied: aiosignal>=1.1.2 in c:\\users\\olekm\\appdata\\roaming\\python\\python311\\site-packages (from aiohttp->datasets==2.18.0) (1.3.1)\n",
      "Requirement already satisfied: charset-normalizer<4,>=2 in c:\\users\\olekm\\appdata\\roaming\\python\\python311\\site-packages (from requests->transformers==4.40.0) (2.0.12)\n",
      "Requirement already satisfied: idna<4,>=2.5 in c:\\users\\olekm\\appdata\\roaming\\python\\python311\\site-packages (from requests->transformers==4.40.0) (3.6)\n",
      "Requirement already satisfied: urllib3<3,>=1.21.1 in c:\\users\\olekm\\appdata\\roaming\\python\\python311\\site-packages (from requests->transformers==4.40.0) (1.26.18)\n",
      "Requirement already satisfied: certifi>=2017.4.17 in c:\\users\\olekm\\appdata\\roaming\\python\\python311\\site-packages (from requests->transformers==4.40.0) (2022.12.7)\n",
      "Requirement already satisfied: sympy in c:\\users\\olekm\\appdata\\roaming\\python\\python311\\site-packages (from torch>=1.10.0->accelerate==0.29.3) (1.12)\n",
      "Requirement already satisfied: networkx in c:\\users\\olekm\\appdata\\roaming\\python\\python311\\site-packages (from torch>=1.10.0->accelerate==0.29.3) (3.2.1)\n",
      "Requirement already satisfied: jinja2 in c:\\users\\olekm\\appdata\\roaming\\python\\python311\\site-packages (from torch>=1.10.0->accelerate==0.29.3) (3.1.2)\n",
      "Requirement already satisfied: colorama in c:\\users\\olekm\\appdata\\roaming\\python\\python311\\site-packages (from tqdm>=4.27->transformers==4.40.0) (0.4.6)\n",
      "Requirement already satisfied: docstring-parser>=0.14.1 in c:\\program files\\python311\\lib\\site-packages (from tyro>=0.5.11->trl==0.8.6) (0.16)\n",
      "Requirement already satisfied: rich>=11.1.0 in c:\\users\\olekm\\appdata\\roaming\\python\\python311\\site-packages (from tyro>=0.5.11->trl==0.8.6) (13.7.1)\n",
      "Requirement already satisfied: shtab>=1.5.6 in c:\\users\\olekm\\appdata\\roaming\\python\\python311\\site-packages (from tyro>=0.5.11->trl==0.8.6) (1.7.1)\n",
      "Requirement already satisfied: python-dateutil>=2.8.2 in c:\\users\\olekm\\appdata\\roaming\\python\\python311\\site-packages (from pandas->datasets==2.18.0) (2.8.2)\n",
      "Requirement already satisfied: pytz>=2020.1 in c:\\users\\olekm\\appdata\\roaming\\python\\python311\\site-packages (from pandas->datasets==2.18.0) (2024.1)\n",
      "Requirement already satisfied: tzdata>=2022.7 in c:\\users\\olekm\\appdata\\roaming\\python\\python311\\site-packages (from pandas->datasets==2.18.0) (2024.1)\n",
      "Requirement already satisfied: six>=1.5 in c:\\users\\olekm\\appdata\\roaming\\python\\python311\\site-packages (from python-dateutil>=2.8.2->pandas->datasets==2.18.0) (1.16.0)\n",
      "Requirement already satisfied: markdown-it-py>=2.2.0 in c:\\users\\olekm\\appdata\\roaming\\python\\python311\\site-packages (from rich>=11.1.0->tyro>=0.5.11->trl==0.8.6) (3.0.0)\n",
      "Requirement already satisfied: pygments<3.0.0,>=2.13.0 in c:\\users\\olekm\\appdata\\roaming\\python\\python311\\site-packages (from rich>=11.1.0->tyro>=0.5.11->trl==0.8.6) (2.14.0)\n",
      "Requirement already satisfied: MarkupSafe>=2.0 in c:\\users\\olekm\\appdata\\roaming\\python\\python311\\site-packages (from jinja2->torch>=1.10.0->accelerate==0.29.3) (2.1.3)\n",
      "Requirement already satisfied: mpmath>=0.19 in c:\\users\\olekm\\appdata\\roaming\\python\\python311\\site-packages (from sympy->torch>=1.10.0->accelerate==0.29.3) (1.3.0)\n",
      "Requirement already satisfied: mdurl~=0.1 in c:\\program files\\python311\\lib\\site-packages (from markdown-it-py>=2.2.0->rich>=11.1.0->tyro>=0.5.11->trl==0.8.6) (0.1.2)\n",
      "\n"
     ]
    },
    {
     "name": "stderr",
     "output_type": "stream",
     "text": [
      "WARNING: There was an error checking the latest version of pip.\n"
     ]
    }
   ],
   "source": [
    "# Install Pytorch\n",
    "%pip install \"torch==2.2.2\" tensorboard\n",
    "\n",
    "# Install Hugging Face libraries\n",
    "%pip install  --upgrade \"transformers==4.40.0\" \"datasets==2.18.0\" \"accelerate==0.29.3\" \"evaluate==0.4.1\" \"bitsandbytes==0.43.1\" \"huggingface_hub==0.22.2\" \"trl==0.8.6\" \"peft==0.10.0\"\n"
   ]
  },
  {
   "cell_type": "code",
   "execution_count": 2,
   "metadata": {},
   "outputs": [],
   "source": [
    "import torch\n",
    "from transformers import AutoTokenizer, AutoModelForSequenceClassification\n",
    "from huggingface_hub import login"
   ]
  },
  {
   "cell_type": "code",
   "execution_count": 3,
   "metadata": {},
   "outputs": [
    {
     "data": {
      "application/vnd.jupyter.widget-view+json": {
       "model_id": "0701722039614185a460a57b426dc167",
       "version_major": 2,
       "version_minor": 0
      },
      "text/plain": [
       "VBox(children=(HTML(value='<center> <img\\nsrc=https://huggingface.co/front/assets/huggingface_logo-noborder.sv…"
      ]
     },
     "metadata": {},
     "output_type": "display_data"
    }
   ],
   "source": [
    "login()"
   ]
  },
  {
   "cell_type": "code",
   "execution_count": 4,
   "metadata": {},
   "outputs": [
    {
     "name": "stderr",
     "output_type": "stream",
     "text": [
      "Special tokens have been added in the vocabulary, make sure the associated word embeddings are fine-tuned or trained.\n"
     ]
    },
    {
     "data": {
      "application/vnd.jupyter.widget-view+json": {
       "model_id": "ed2d9835a9264967a3a0f74d989e7ffc",
       "version_major": 2,
       "version_minor": 0
      },
      "text/plain": [
       "Loading checkpoint shards:   0%|          | 0/4 [00:00<?, ?it/s]"
      ]
     },
     "metadata": {},
     "output_type": "display_data"
    },
    {
     "ename": "",
     "evalue": "",
     "output_type": "error",
     "traceback": [
      "\u001b[1;31mThe Kernel crashed while executing code in the current cell or a previous cell. \n",
      "\u001b[1;31mPlease review the code in the cell(s) to identify a possible cause of the failure. \n",
      "\u001b[1;31mClick <a href='https://aka.ms/vscodeJupyterKernelCrash'>here</a> for more info. \n",
      "\u001b[1;31mView Jupyter <a href='command:jupyter.viewOutput'>log</a> for further details."
     ]
    }
   ],
   "source": [
    "import torch\n",
    "from transformers import AutoTokenizer, AutoModelForSequenceClassification\n",
    "from transformers import LlamaForSequenceClassification\n",
    "\n",
    "# Load the tokenizer and model from a specific checkpoint\n",
    "checkpoint_path = r\"C:\\Users\\olekm\\OneDrive\\Pulpit\\ICFraud\\Trained_model\\saved_model\"  # Change this to your checkpoint path\n",
    "tokenizer = AutoTokenizer.from_pretrained(checkpoint_path)\n",
    "\n",
    "# Load the model with the correct number of labels\n",
    "model = LlamaForSequenceClassification.from_pretrained(checkpoint_path, num_labels=4)\n",
    "# Ensure the model is in evaluation mode\n",
    "model.eval()\n",
    "\n",
    "# Function to predict the sentiment of a given text\n",
    "def predict_sentiment(text):\n",
    "    # Force CPU usage\n",
    "    device = torch.device(\"cpu\")\n",
    "    model.to(device)\n",
    "    \n",
    "    # Tokenize the input text\n",
    "    inputs = tokenizer(text, return_tensors=\"pt\", truncation=True, padding=True)\n",
    "    inputs = {k: v.to(device) for k, v in inputs.items()}\n",
    "\n",
    "    # Make predictions\n",
    "    with torch.no_grad():\n",
    "        outputs = model(**inputs)\n",
    "        logits = outputs.logits\n",
    "\n",
    "    # Get the predicted class\n",
    "    predicted_class_id = logits.argmax().item()\n",
    "    \n",
    "    return predicted_class_id\n",
    "\n",
    "# Example usage\n",
    "text = \"I love this product!\"\n",
    "predicted_class = predict_sentiment(text)\n",
    "print(f\"Predicted class: {predicted_class}\")"
   ]
  }
 ],
 "metadata": {
  "kernelspec": {
   "display_name": "Python 3",
   "language": "python",
   "name": "python3"
  },
  "language_info": {
   "codemirror_mode": {
    "name": "ipython",
    "version": 3
   },
   "file_extension": ".py",
   "mimetype": "text/x-python",
   "name": "python",
   "nbconvert_exporter": "python",
   "pygments_lexer": "ipython3",
   "version": "3.11.6"
  }
 },
 "nbformat": 4,
 "nbformat_minor": 2
}
